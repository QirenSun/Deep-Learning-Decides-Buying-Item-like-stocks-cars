{
 "cells": [
  {
   "cell_type": "markdown",
   "metadata": {},
   "source": [
    "# Text Processing\n",
    "## Regular Expressions\n",
    "s/.*YOU ARE LIKE.*/    \n",
    "[A-Z]+  \n",
    "Pattern [wW]oodchuck  \n",
    "[1 2 3 4 5 6] [a-z] [0-9]  \n",
    "[^Ss] a^b Beginning  \n",
    "a|b|c=[abc]  \n",
    "? * + .  \n",
    "(\\.$) The end.  \n",
    " The end  optional  \n",
    "\n",
    "\n",
    "\n"
   ]
  },
  {
   "cell_type": "markdown",
   "metadata": {},
   "source": [
    "## Text Normalization\n",
    "Lemma: same stem  \n",
    "WordForm  \n",
    "N V |V|\n",
    "\n"
   ]
  },
  {
   "cell_type": "markdown",
   "metadata": {},
   "source": [
    "# Markov Chain\n",
    "## N-gram models\n",
    "bigram probabilities\n",
    "The Shannon Method (take the highest frequency word)\n",
    "## Add-one estimation\n",
    "Laplace smoothing  \n",
    "## lambda\n",
    "held-out\n",
    "## unknown words\n",
    "## web-scale n-grams\n",
    "## Smoothing web-scale n-grams\n",
    "## CNN"
   ]
  }
 ],
 "metadata": {
  "kernelspec": {
   "display_name": "Python 3",
   "language": "python",
   "name": "python3"
  },
  "language_info": {
   "codemirror_mode": {
    "name": "ipython",
    "version": 3
   },
   "file_extension": ".py",
   "mimetype": "text/x-python",
   "name": "python",
   "nbconvert_exporter": "python",
   "pygments_lexer": "ipython3",
   "version": "3.6.5"
  }
 },
 "nbformat": 4,
 "nbformat_minor": 2
}
