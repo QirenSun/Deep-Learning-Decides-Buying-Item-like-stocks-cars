{
 "cells": [
  {
   "cell_type": "markdown",
   "metadata": {},
   "source": [
    "# CLT\n",
    "\n",
    "madani@bu.edu\n",
    "    MT 35%\n",
    "    FNL 35%\n",
    "\n",
    "\n",
    "  "
   ]
  },
  {
   "cell_type": "markdown",
   "metadata": {},
   "source": [
    "## Set\n",
    "\n",
    "Collection(ensemble) of objects(elements)  \n",
    "S={a,A,tree,C++}  \n",
    "|S|=4  \n",
    "set finite or infinite  \n",
    "B={x|x is ....}  \n",
    "x belong to N  \n",
    "Z: integers  \n",
    "\n",
    "## Subset\n",
    "空集 as elements/set 视情况  \n",
    "elements of subset  \n",
    "子集，真子集，空集  \n",
    "\n",
    "## union  \n",
    "A or B  \n",
    "## Intersection \n",
    "A and B  \n",
    "## Set difference\n",
    "A - B  \n",
    "B - A  \n",
    "## Cartesian Product\n",
    "$A * B$ ={(x,y)|x--A and y--B}  \n",
    "(x,y)={x,y} --order matters  \n",
    "A={a,b},B={b,c}  \n",
    "$A * B$ {(a,b),(a,c),(b,b),(b,c)}  \n",
    "## Complement of a Set\n",
    "x not..A and x..u\n",
    "## Demorgan Laws\n",
    "iff\n",
    "## Countable Sets\n",
    "N countable  \n",
    "Z countable  \n",
    "R not countable(enumerable)  \n",
    "\n",
    "## Proofs\n",
    "### First Week Assignment\n",
    "\n",
    "statement A--B  \n",
    "## Direct\n",
    "A--A1--A2--...--B\n",
    "## Contrapostion\n",
    "(not B)--(not A)  \n",
    "(not B)--(not B1)--...--(not A)  \n",
    "## Contradiction\n",
    "A--b  \n",
    "assume A & (not B) true!  \n",
    "absurd!\n",
    "\n",
    "example:  \n",
    "proof 根号2 is not a rational  \n",
    "x=a/b simplified\n",
    "## Induction\n",
    "P(n), n>=k--Base  \n",
    "inductive math(特殊到一般)/ deductive math（一般到特殊）\n",
    "\n",
    "## PMI\n",
    "1) Base(check base)  \n",
    "2) Assume P(n) is True!  \n",
    "3) Proof P(n)--P(n+1)\n",
    "\n",
    "## Counterexample\n",
    "disproof"
   ]
  },
  {
   "cell_type": "markdown",
   "metadata": {},
   "source": [
    "\n"
   ]
  },
  {
   "cell_type": "code",
   "execution_count": null,
   "metadata": {},
   "outputs": [],
   "source": []
  }
 ],
 "metadata": {
  "kernelspec": {
   "display_name": "Python 3",
   "language": "python",
   "name": "python3"
  },
  "language_info": {
   "codemirror_mode": {
    "name": "ipython",
    "version": 3
   },
   "file_extension": ".py",
   "mimetype": "text/x-python",
   "name": "python",
   "nbconvert_exporter": "python",
   "pygments_lexer": "ipython3",
   "version": "3.6.5"
  }
 },
 "nbformat": 4,
 "nbformat_minor": 2
}
